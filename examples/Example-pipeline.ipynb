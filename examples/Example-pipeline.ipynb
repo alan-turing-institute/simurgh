{
 "cells": [
  {
   "cell_type": "markdown",
   "metadata": {},
   "source": [
    "# Simurgh"
   ]
  },
  {
   "cell_type": "markdown",
   "metadata": {},
   "source": [
    "1. ~~Launch `bluesky` simulator~~\n",
    "2. ~~Launch `bluebird`~~\n",
    "3. Load scenario into `bluesky` using `bluebird`\n",
    "4. Load sector into `bluesky` using `bluebird`\n",
    "5. Query aircraft positions\n",
    "6. Explain OpenAI interface\n",
    "7. Explain simple step\n",
    "8. Run for loop of 10 steps with rule based approach."
   ]
  },
  {
   "cell_type": "markdown",
   "metadata": {},
   "source": [
    "### Launch `bluesky` simulator and `bluebird` interface layer"
   ]
  },
  {
   "cell_type": "code",
   "execution_count": 21,
   "metadata": {},
   "outputs": [
    {
     "name": "stdout",
     "output_type": "stream",
     "text": [
      "Creating network \"simurgh_default\" with the default driver\n",
      "Creating bluesky ... \n",
      "\u001b[1Bting bluesky ... \u001b[32mdone\u001b[0mCreating bluebird ... \n",
      "\u001b[1BCreating twitcher ... mdone\u001b[0m\n",
      "\u001b[1Bting twitcher ... \u001b[32mdone\u001b[0m"
     ]
    }
   ],
   "source": [
    "!docker-compose --file ../docker-compose.yml up --detach"
   ]
  },
  {
   "cell_type": "markdown",
   "metadata": {},
   "source": [
    "### Query aircraft positions"
   ]
  },
  {
   "cell_type": "markdown",
   "metadata": {},
   "source": [
    "Assuming one has already set up a Conda environment and installed the dependencies via: \n",
    "```$ source install.sh```\n",
    "\n",
    "Then importing `pydodo` should allow for a quick query of aircraft posistions (there should be none as we have not uploaded any sector or scenario information yet)"
   ]
  },
  {
   "cell_type": "code",
   "execution_count": 22,
   "metadata": {},
   "outputs": [],
   "source": [
    "import pydodo"
   ]
  },
  {
   "cell_type": "code",
   "execution_count": 23,
   "metadata": {},
   "outputs": [
    {
     "data": {
      "text/html": [
       "<div>\n",
       "<style scoped>\n",
       "    .dataframe tbody tr th:only-of-type {\n",
       "        vertical-align: middle;\n",
       "    }\n",
       "\n",
       "    .dataframe tbody tr th {\n",
       "        vertical-align: top;\n",
       "    }\n",
       "\n",
       "    .dataframe thead th {\n",
       "        text-align: right;\n",
       "    }\n",
       "</style>\n",
       "<table border=\"1\" class=\"dataframe\">\n",
       "  <thead>\n",
       "    <tr style=\"text-align: right;\">\n",
       "      <th></th>\n",
       "      <th>aircraft_type</th>\n",
       "      <th>ground_speed</th>\n",
       "      <th>latitude</th>\n",
       "      <th>longitude</th>\n",
       "      <th>vertical_speed</th>\n",
       "      <th>heading</th>\n",
       "      <th>current_flight_level</th>\n",
       "      <th>requested_flight_level</th>\n",
       "      <th>cleared_flight_level</th>\n",
       "    </tr>\n",
       "  </thead>\n",
       "  <tbody>\n",
       "  </tbody>\n",
       "</table>\n",
       "</div>"
      ],
      "text/plain": [
       "Empty DataFrame\n",
       "Columns: [aircraft_type, ground_speed, latitude, longitude, vertical_speed, heading, current_flight_level, requested_flight_level, cleared_flight_level]\n",
       "Index: []"
      ]
     },
     "execution_count": 23,
     "metadata": {},
     "output_type": "execute_result"
    }
   ],
   "source": [
    "pydodo.all_positions()"
   ]
  },
  {
   "cell_type": "markdown",
   "metadata": {},
   "source": [
    "_Success!_"
   ]
  },
  {
   "cell_type": "markdown",
   "metadata": {},
   "source": [
    "### Load scenario into `bluesky` using `bluebird`"
   ]
  },
  {
   "cell_type": "code",
   "execution_count": null,
   "metadata": {},
   "outputs": [],
   "source": []
  },
  {
   "cell_type": "markdown",
   "metadata": {},
   "source": [
    "### Load sector into `bluesky` using `bluebird`"
   ]
  },
  {
   "cell_type": "code",
   "execution_count": null,
   "metadata": {},
   "outputs": [],
   "source": []
  },
  {
   "cell_type": "markdown",
   "metadata": {},
   "source": [
    "### Query aircraft positions, again"
   ]
  },
  {
   "cell_type": "code",
   "execution_count": null,
   "metadata": {},
   "outputs": [],
   "source": []
  },
  {
   "cell_type": "code",
   "execution_count": null,
   "metadata": {},
   "outputs": [],
   "source": []
  },
  {
   "cell_type": "markdown",
   "metadata": {},
   "source": [
    "### Explain OpenAI interface"
   ]
  },
  {
   "cell_type": "code",
   "execution_count": null,
   "metadata": {},
   "outputs": [],
   "source": []
  },
  {
   "cell_type": "code",
   "execution_count": null,
   "metadata": {},
   "outputs": [],
   "source": []
  },
  {
   "cell_type": "markdown",
   "metadata": {},
   "source": [
    "### Explain simple step"
   ]
  },
  {
   "cell_type": "code",
   "execution_count": null,
   "metadata": {},
   "outputs": [],
   "source": []
  },
  {
   "cell_type": "code",
   "execution_count": null,
   "metadata": {},
   "outputs": [],
   "source": []
  },
  {
   "cell_type": "markdown",
   "metadata": {},
   "source": [
    "### Run for loop of 10 steps with rule based approach."
   ]
  },
  {
   "cell_type": "markdown",
   "metadata": {},
   "source": [
    "This example follows a simple rule based set of steps which check to see if a group of planes are away from their requested flight levels. Then for the plane that is furthest away from it's requested flight level, it send the command to that plane to _go_ to its requested flight level."
   ]
  },
  {
   "cell_type": "code",
   "execution_count": null,
   "metadata": {},
   "outputs": [],
   "source": [
    "# %load ../dodo/PyDodo/plan.py\n",
    "import gym\n",
    "import birdhouse\n",
    "\n",
    "env = gym.make(\"birdhouse-v1\")\n",
    "\n",
    "action = None\n",
    "\n",
    "for _ in range(10):\n",
    "    # ENVIRONMENT STEP\n",
    "    obs, reward, done, info = env.step(action)\n",
    "    # AGENT - ACTION SELECTION\n",
    "    # --> choose plan wit biggest absolute difference between current and requested flight levels\n",
    "    # and send to requested FL (unless the difference is < 10 FL)\n",
    "    obs[\"FL_diff\"] = (obs['requested_flight_level'] - obs['current_flight_level']/100).abs()\n",
    "    max_diff =  obs.loc[obs['FL_diff'].idxmax()]\n",
    "    if max_diff['FL_diff'] >= 10:\n",
    "        callsign = max_diff.name\n",
    "        req_fl = max_diff['requested_flight_level']\n",
    "        action = (callsign, req_fl)\n",
    "    else:\n",
    "        action = None"
   ]
  },
  {
   "cell_type": "code",
   "execution_count": null,
   "metadata": {},
   "outputs": [],
   "source": []
  },
  {
   "cell_type": "code",
   "execution_count": null,
   "metadata": {},
   "outputs": [],
   "source": []
  }
 ],
 "metadata": {
  "kernelspec": {
   "display_name": "Python 3",
   "language": "python",
   "name": "python3"
  },
  "language_info": {
   "codemirror_mode": {
    "name": "ipython",
    "version": 3
   },
   "file_extension": ".py",
   "mimetype": "text/x-python",
   "name": "python",
   "nbconvert_exporter": "python",
   "pygments_lexer": "ipython3",
   "version": "3.7.6"
  }
 },
 "nbformat": 4,
 "nbformat_minor": 2
}
